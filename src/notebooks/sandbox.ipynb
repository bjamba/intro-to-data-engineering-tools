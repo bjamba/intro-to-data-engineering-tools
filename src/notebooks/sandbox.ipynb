{
 "cells": [
  {
   "cell_type": "markdown",
   "id": "03545808-d95c-4891-a1bb-fc555eb3a2e5",
   "metadata": {},
   "source": [
    "# Data Tooling 101 Sandbox"
   ]
  },
  {
   "cell_type": "markdown",
   "id": "dca2beb2-dd52-44a2-bf03-736c7a8c13b3",
   "metadata": {},
   "source": [
    "### **What the heck is a Jupyter Notebook?**\n",
    "A Jupyter Notebook is an interactive code environment that allows you to compartmentalize your code (and even markdown like this!!!) within the context of \"cells\". Code can be separated and executed in any order, on demand, within a specific cell's scope, but whatever gets executed affects a global scope, allowing you to create new global variables and update them in any order you choose."
   ]
  },
  {
   "cell_type": "markdown",
   "id": "b39b6065-d56d-4e07-a5b8-7d562a193b16",
   "metadata": {},
   "source": [
    "### **Example 1**: Executing Cells out of Order"
   ]
  },
  {
   "cell_type": "code",
   "execution_count": 45,
   "id": "66444007-8690-45be-8b22-3c07d85f33a4",
   "metadata": {
    "tags": []
   },
   "outputs": [
    {
     "name": "stdout",
     "output_type": "stream",
     "text": [
      "Your variable is uninstantiated!\n"
     ]
    }
   ],
   "source": [
    "# Execute this first\n",
    "# Execute this third\n",
    "try:\n",
    "    print(an_uninstantiated_variable)\n",
    "except:\n",
    "    print(\"Your variable is uninstantiated!\")"
   ]
  },
  {
   "cell_type": "code",
   "execution_count": 2,
   "id": "46eccc76-5dc6-4ebd-9e77-6d0765dd1d9e",
   "metadata": {
    "tags": []
   },
   "outputs": [],
   "source": [
    "# Execute this second\n",
    "an_uninstantiated_variable = \"I'm instantiated now!\""
   ]
  },
  {
   "cell_type": "markdown",
   "id": "93642cd9-f0ff-4be4-b555-fb7a30acf7b7",
   "metadata": {},
   "source": [
    "### **Exercise 1**"
   ]
  },
  {
   "cell_type": "markdown",
   "id": "153c4733-5f89-46ed-9a5f-ed7147d07ae5",
   "metadata": {},
   "source": [
    "Using what you know about Jupyter Notebooks, create a better implementation of the `get_fibonacci_term` implementation provided below as `get_fibonacci_term_faster`. Both functions MUST execute using the timeit decorator, side-by-side, so that the print statements show up next to each other.\n",
    "\n",
    "Here are some important limitations of this exercise:\n",
    "* You can only modify the cell that is marked \"Exercise 1 Solution\"\n",
    "* Both implementations must be called by the cell that is marked \"Exercise 1 Validation\"\n",
    "* You can otherwise execute these cells in any order"
   ]
  },
  {
   "cell_type": "code",
   "execution_count": 51,
   "id": "9e11cdb3-a3dc-4169-8580-9080dce0d1cb",
   "metadata": {
    "tags": []
   },
   "outputs": [],
   "source": [
    "def timeit(func):\n",
    "    import time\n",
    "    import traceback\n",
    "    def wrapper(*args, **kwargs):\n",
    "        before = time.time()\n",
    "        result = func(*args, **kwargs)\n",
    "        after = time.time()\n",
    "        print(f\"{func.__name__} took {after - before} seconds to finish.\")\n",
    "        return result\n",
    "    return wrapper\n",
    "\n",
    "@timeit\n",
    "def get_fibonacci_term(n):\n",
    "    def recursive(n):\n",
    "        if n <= 2:\n",
    "            return 1\n",
    "        return recursive(n - 1) + recursive(n - 2)\n",
    "    return recursive(n)"
   ]
  },
  {
   "cell_type": "code",
   "execution_count": 42,
   "id": "5363e182-f39a-4ad1-87b4-0a91bc6c4390",
   "metadata": {
    "tags": []
   },
   "outputs": [],
   "source": [
    "funcs = [get_fibonacci_term]"
   ]
  },
  {
   "cell_type": "code",
   "execution_count": 44,
   "id": "1a652f29-c852-4487-9f3b-8aa2e37acbc8",
   "metadata": {
    "tags": []
   },
   "outputs": [
    {
     "name": "stdout",
     "output_type": "stream",
     "text": [
      "get_fibonacci_term took 0.16547536849975586 seconds to finish with the following arguments: (30,).\n",
      "832040\n"
     ]
    }
   ],
   "source": [
    "# Exercise 1 Validation\n",
    "for func in funcs:\n",
    "    print(func(30))"
   ]
  },
  {
   "cell_type": "code",
   "execution_count": 37,
   "id": "3d605ea8-18f4-4ac0-a5d8-5ca0375fa74f",
   "metadata": {
    "tags": []
   },
   "outputs": [],
   "source": [
    "# Exercise 1 Solution"
   ]
  },
  {
   "cell_type": "markdown",
   "id": "9f4c6c9d-d115-4bf3-928b-2c69b5e247ae",
   "metadata": {},
   "source": [
    "### **Example 2**: Intro to NumPy and Pandas"
   ]
  },
  {
   "cell_type": "code",
   "execution_count": null,
   "id": "c2485f09-8452-4e87-b52b-754b3cee5edf",
   "metadata": {},
   "outputs": [],
   "source": []
  },
  {
   "cell_type": "markdown",
   "id": "df029329-3036-44c7-8e47-a1b90715264c",
   "metadata": {},
   "source": [
    "NumPy (commonly aliased as `np`) and Pandas (commonly aliased as `pd`) are two of the most, if not the most, essential modules for doing data science work in Python. Consider learning them a hard requirement if you ever want to work with big data. That's NOT an exaggeration.\n",
    "\n",
    "Python has many optimizations that make it much more performant than Javascript when it comes to array-like data structures. Javascript has strings, arrays, and objects. Similarly, Python has strings, lists, and dictionaries. (There are many more examples but these are the first three comparisons people think of). That being said, Python is a higher-level language and won't be nearly as performant as a Java, C, or C++ when it comes to raw optimization of very large datasets.\n",
    "\n",
    "To address this, NumPy and Pandas leverage C and C++ under the hood in order to offload the computational grunt work onto those lower level languages. They also introduce three new and very important data structures that build off of our mental model of lists and dictionaries:\n",
    "\n",
    "1. array (NumPy): A NumPy array is a single-to-multi dimensional container that holds elements of the same data type. NumPy arrays are used for efficient storage, manipulation, and computation of large amounts of numerical data.\n",
    "\n",
    "2. Series (Pandas): A Pandas Series is a one-dimensional labeled data structure provided by the pandas library in Python. It's similar to a column in a spreadsheet or a one-column database table. A Series consists of an ordered sequence of values and associated index labels, which can be used for efficient data manipulation and analysis.\n",
    "\n",
    "3. DataFrame (Pandas): A Pandas DataFrame is a two-dimensional labeled data structure provided by the pandas library in Python. It's akin to a table in a relational database or a spreadsheet, where data is organized into rows and columns. DataFrames are versatile and widely used for data manipulation, analysis, and exploration."
   ]
  },
  {
   "cell_type": "code",
   "execution_count": 105,
   "id": "ef07d9a1-e6b4-4f3e-8cfd-47a47fc68339",
   "metadata": {
    "tags": []
   },
   "outputs": [],
   "source": [
    "import random\n",
    "import numpy as np\n",
    "import pandas as pd"
   ]
  },
  {
   "cell_type": "code",
   "execution_count": 126,
   "id": "b42275ef-481c-46a2-8e58-153202d9b04e",
   "metadata": {
    "tags": []
   },
   "outputs": [
    {
     "name": "stdout",
     "output_type": "stream",
     "text": [
      "multiply_by_n took 3.5762786865234375e-06 seconds to finish.\n",
      "multiply_by_n took 1.6689300537109375e-06 seconds to finish.\n"
     ]
    }
   ],
   "source": [
    "# Generating a large list v. a large array of random numbers and multipling it by 2.\n",
    "l = [random.random()*100 for _ in range(int(1e7))]\n",
    "a = np.array(l)\n",
    "\n",
    "@timeit\n",
    "def multiply_by_n(d,n):\n",
    "    if type(d) == list:\n",
    "        return map(lambda x: x * 2, d)\n",
    "    elif type(d) == np.array:\n",
    "        return d * n\n",
    "    return d\n",
    "    \n",
    "for d in [l,a]:\n",
    "    multiply_by_n(d, 2)"
   ]
  },
  {
   "cell_type": "code",
   "execution_count": 136,
   "id": "d3b41afc-9f8d-40c0-9b33-94e7272e6325",
   "metadata": {
    "tags": []
   },
   "outputs": [
    {
     "data": {
      "text/html": [
       "<div>\n",
       "<style scoped>\n",
       "    .dataframe tbody tr th:only-of-type {\n",
       "        vertical-align: middle;\n",
       "    }\n",
       "\n",
       "    .dataframe tbody tr th {\n",
       "        vertical-align: top;\n",
       "    }\n",
       "\n",
       "    .dataframe thead th {\n",
       "        text-align: right;\n",
       "    }\n",
       "</style>\n",
       "<table border=\"1\" class=\"dataframe\">\n",
       "  <thead>\n",
       "    <tr style=\"text-align: right;\">\n",
       "      <th></th>\n",
       "      <th>color</th>\n",
       "      <th>car_type</th>\n",
       "      <th>fuel_type</th>\n",
       "      <th>year</th>\n",
       "      <th>price_range</th>\n",
       "      <th>condition</th>\n",
       "      <th>finance_options</th>\n",
       "      <th>make</th>\n",
       "    </tr>\n",
       "  </thead>\n",
       "  <tbody>\n",
       "    <tr>\n",
       "      <th>0</th>\n",
       "      <td>blue</td>\n",
       "      <td>truck</td>\n",
       "      <td>gas</td>\n",
       "      <td>2022</td>\n",
       "      <td>35000</td>\n",
       "      <td>used</td>\n",
       "      <td>lease</td>\n",
       "      <td>honda</td>\n",
       "    </tr>\n",
       "    <tr>\n",
       "      <th>1</th>\n",
       "      <td>orange</td>\n",
       "      <td>truck</td>\n",
       "      <td>electric</td>\n",
       "      <td>2018</td>\n",
       "      <td>10000</td>\n",
       "      <td>new</td>\n",
       "      <td>lease</td>\n",
       "      <td>kia</td>\n",
       "    </tr>\n",
       "    <tr>\n",
       "      <th>2</th>\n",
       "      <td>white</td>\n",
       "      <td>suv</td>\n",
       "      <td>diesel</td>\n",
       "      <td>2023</td>\n",
       "      <td>20000</td>\n",
       "      <td>new</td>\n",
       "      <td>cash</td>\n",
       "      <td>gm</td>\n",
       "    </tr>\n",
       "    <tr>\n",
       "      <th>3</th>\n",
       "      <td>white</td>\n",
       "      <td>compact</td>\n",
       "      <td>electric</td>\n",
       "      <td>2020</td>\n",
       "      <td>20000</td>\n",
       "      <td>new</td>\n",
       "      <td>finance</td>\n",
       "      <td>gm</td>\n",
       "    </tr>\n",
       "    <tr>\n",
       "      <th>4</th>\n",
       "      <td>green</td>\n",
       "      <td>crossover</td>\n",
       "      <td>hybrid</td>\n",
       "      <td>2017</td>\n",
       "      <td>25000</td>\n",
       "      <td>new</td>\n",
       "      <td>finance</td>\n",
       "      <td>honda</td>\n",
       "    </tr>\n",
       "    <tr>\n",
       "      <th>5</th>\n",
       "      <td>green</td>\n",
       "      <td>truck</td>\n",
       "      <td>electric</td>\n",
       "      <td>2017</td>\n",
       "      <td>20000</td>\n",
       "      <td>new</td>\n",
       "      <td>finance</td>\n",
       "      <td>kia</td>\n",
       "    </tr>\n",
       "    <tr>\n",
       "      <th>6</th>\n",
       "      <td>white</td>\n",
       "      <td>crossover</td>\n",
       "      <td>hybrid</td>\n",
       "      <td>2023</td>\n",
       "      <td>45000</td>\n",
       "      <td>used</td>\n",
       "      <td>cash</td>\n",
       "      <td>toyota</td>\n",
       "    </tr>\n",
       "    <tr>\n",
       "      <th>7</th>\n",
       "      <td>green</td>\n",
       "      <td>hatchback</td>\n",
       "      <td>gas</td>\n",
       "      <td>2020</td>\n",
       "      <td>15000</td>\n",
       "      <td>new</td>\n",
       "      <td>cash</td>\n",
       "      <td>ford</td>\n",
       "    </tr>\n",
       "    <tr>\n",
       "      <th>8</th>\n",
       "      <td>white</td>\n",
       "      <td>crossover</td>\n",
       "      <td>diesel</td>\n",
       "      <td>2023</td>\n",
       "      <td>20000</td>\n",
       "      <td>used</td>\n",
       "      <td>cash</td>\n",
       "      <td>chevrolet</td>\n",
       "    </tr>\n",
       "    <tr>\n",
       "      <th>9</th>\n",
       "      <td>gray</td>\n",
       "      <td>hatchback</td>\n",
       "      <td>gas</td>\n",
       "      <td>2022</td>\n",
       "      <td>25000</td>\n",
       "      <td>used</td>\n",
       "      <td>cash</td>\n",
       "      <td>subaru</td>\n",
       "    </tr>\n",
       "  </tbody>\n",
       "</table>\n",
       "</div>"
      ],
      "text/plain": [
       "    color   car_type fuel_type  year  price_range condition finance_options  \\\n",
       "0    blue      truck       gas  2022        35000      used           lease   \n",
       "1  orange      truck  electric  2018        10000       new           lease   \n",
       "2   white        suv    diesel  2023        20000       new            cash   \n",
       "3   white    compact  electric  2020        20000       new         finance   \n",
       "4   green  crossover    hybrid  2017        25000       new         finance   \n",
       "5   green      truck  electric  2017        20000       new         finance   \n",
       "6   white  crossover    hybrid  2023        45000      used            cash   \n",
       "7   green  hatchback       gas  2020        15000       new            cash   \n",
       "8   white  crossover    diesel  2023        20000      used            cash   \n",
       "9    gray  hatchback       gas  2022        25000      used            cash   \n",
       "\n",
       "        make  \n",
       "0      honda  \n",
       "1        kia  \n",
       "2         gm  \n",
       "3         gm  \n",
       "4      honda  \n",
       "5        kia  \n",
       "6     toyota  \n",
       "7       ford  \n",
       "8  chevrolet  \n",
       "9     subaru  "
      ]
     },
     "execution_count": 136,
     "metadata": {},
     "output_type": "execute_result"
    }
   ],
   "source": [
    "# Creating a dataframe from a list of objects\n",
    "template = {\n",
    "    'color': ['red','green','blue','orange','black','white','gray'],\n",
    "    'car_type': ['compact','sedan','truck','suv','crossover','van','hatchback'],\n",
    "    'fuel_type': ['gas','diesel','electric','hybrid','hydrogen'],\n",
    "    'year': [2023,2022,2021,2020,2019,2018,2017],\n",
    "    'price_range': [10000, 15000, 20000, 25000, 30000, 35000, 40000, 45000, 50000],\n",
    "    'condition': ['new', 'used'],\n",
    "    'finance_options': ['cash','finance','lease'],\n",
    "    'make': ['toyota','honda','ford','subaru','chevrolet','kia','gm']\n",
    "}\n",
    "\n",
    "dataset = []\n",
    "for _ in range(int(1e4)):\n",
    "    d = {}\n",
    "    for key in template.keys():\n",
    "        d[key] = template[key][random.randint(0,len(template[key])-1)]\n",
    "    dataset.append(d)\n",
    "\n",
    "df = pd.DataFrame(dataset)\n",
    "\n",
    "# head(n) gives us the first n rows of the dataframe\n",
    "df.head(10)"
   ]
  },
  {
   "cell_type": "code",
   "execution_count": 134,
   "id": "ab86afcb-7d53-4247-b964-f16d0699a701",
   "metadata": {
    "tags": []
   },
   "outputs": [
    {
     "data": {
      "text/plain": [
       "0         compact\n",
       "1       hatchback\n",
       "2       hatchback\n",
       "3       crossover\n",
       "4           sedan\n",
       "          ...    \n",
       "9995        sedan\n",
       "9996          van\n",
       "9997        truck\n",
       "9998    hatchback\n",
       "9999      compact\n",
       "Name: car_type, Length: 10000, dtype: object"
      ]
     },
     "execution_count": 134,
     "metadata": {},
     "output_type": "execute_result"
    }
   ],
   "source": [
    "# A series would represent a single column or row of a dataframe\n",
    "df.car_type"
   ]
  },
  {
   "cell_type": "code",
   "execution_count": null,
   "id": "42f1ee72-ed1e-42ff-b639-5373c8895248",
   "metadata": {},
   "outputs": [],
   "source": []
  }
 ],
 "metadata": {
  "kernelspec": {
   "display_name": "Python 3 (ipykernel)",
   "language": "python",
   "name": "python3"
  },
  "language_info": {
   "codemirror_mode": {
    "name": "ipython",
    "version": 3
   },
   "file_extension": ".py",
   "mimetype": "text/x-python",
   "name": "python",
   "nbconvert_exporter": "python",
   "pygments_lexer": "ipython3",
   "version": "3.10.12"
  }
 },
 "nbformat": 4,
 "nbformat_minor": 5
}
